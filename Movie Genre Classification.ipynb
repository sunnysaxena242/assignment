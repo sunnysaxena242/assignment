{
 "cells": [
  {
   "cell_type": "code",
   "execution_count": 1,
   "id": "93d54254",
   "metadata": {},
   "outputs": [],
   "source": [
    "import re\n",
    "import ast\n",
    "import nltk\n",
    "import numpy as np\n",
    "import pandas as pd\n",
    "import seaborn as sns\n",
    "\n",
    "from datetime import datetime\n",
    "\n",
    "import matplotlib.pyplot as plt \n",
    "from pylab import rcParams\n",
    "\n",
    "from sklearn.pipeline import Pipeline\n",
    "\n",
    "from sklearn.model_selection import KFold\n",
    "from sklearn.model_selection import cross_val_score\n",
    "\n",
    "from sklearn.svm import LinearSVC\n",
    "from sklearn.linear_model import SGDClassifier\n",
    "from sklearn.linear_model import LogisticRegression\n",
    "from sklearn.naive_bayes import MultinomialNB, GaussianNB\n",
    "\n",
    "from sklearn.model_selection import train_test_split\n",
    "from sklearn.model_selection import GridSearchCV\n",
    "\n",
    "from sklearn.preprocessing import MultiLabelBinarizer\n",
    "from sklearn.multiclass import OneVsRestClassifier\n",
    "from sklearn.feature_extraction.text import TfidfVectorizer\n",
    "\n",
    "import warnings\n",
    "warnings.filterwarnings('ignore')\n",
    "\n",
    "from sklearn.metrics import accuracy_score, recall_score, precision_score, f1_score, hamming_loss\n",
    "\n",
    "%matplotlib inline"
   ]
  },
  {
   "cell_type": "code",
   "execution_count": 2,
   "id": "6c49c7bf",
   "metadata": {},
   "outputs": [],
   "source": [
    "nltk.download(\"punkt\")\n",
    "nltk.download(\"stopwords\")\n",
    "\n",
    "from nltk.corpus import stopwords\n",
    "from nltk.stem import PorterStemmer\n",
    "from nltk.tokenize import word_tokenize"
   ]
  },
  {
   "cell_type": "markdown",
   "id": "ea6689fc",
   "metadata": {},
   "source": [
    "# Load Dataset"
   ]
  },
  {
   "cell_type": "code",
   "execution_count": 3,
   "id": "bdad8bb5",
   "metadata": {},
   "outputs": [],
   "source": [
    "file_path = 'D:\\\\MyNoteBook\\\\movie_genre_data\\\\movie_genre_data.tsv'"
   ]
  },
  {
   "cell_type": "code",
   "execution_count": 4,
   "id": "03260946",
   "metadata": {},
   "outputs": [],
   "source": [
    "df = pd.read_csv(file_path, sep='\\t', usecols=['plot', 'movie_name', 'genre'])"
   ]
  },
  {
   "cell_type": "markdown",
   "id": "3c807982",
   "metadata": {},
   "source": [
    "# Exploratory Data Analysis"
   ]
  },
  {
   "cell_type": "code",
   "execution_count": 5,
   "id": "7b9bad2f",
   "metadata": {
    "scrolled": true
   },
   "outputs": [
    {
     "data": {
      "text/html": [
       "<div>\n",
       "<style scoped>\n",
       "    .dataframe tbody tr th:only-of-type {\n",
       "        vertical-align: middle;\n",
       "    }\n",
       "\n",
       "    .dataframe tbody tr th {\n",
       "        vertical-align: top;\n",
       "    }\n",
       "\n",
       "    .dataframe thead th {\n",
       "        text-align: right;\n",
       "    }\n",
       "</style>\n",
       "<table border=\"1\" class=\"dataframe\">\n",
       "  <thead>\n",
       "    <tr style=\"text-align: right;\">\n",
       "      <th></th>\n",
       "      <th>plot</th>\n",
       "      <th>movie_name</th>\n",
       "      <th>genre</th>\n",
       "    </tr>\n",
       "  </thead>\n",
       "  <tbody>\n",
       "    <tr>\n",
       "      <th>0</th>\n",
       "      <td>Shlykov, a hard-working taxi driver and Lyosha, a saxophonist, develop a bizarre love-hate relationship, and despite their prejudices, realize they aren't so different after all.</td>\n",
       "      <td>Taxi Blues</td>\n",
       "      <td>['Drama', 'World cinema']</td>\n",
       "    </tr>\n",
       "    <tr>\n",
       "      <th>1</th>\n",
       "      <td>The nation of Panem consists of a wealthy Capitol and twelve poorer districts. As punishment for a past rebellion, each district must provide a boy and girl  between the ages of 12 and 18 selected by lottery  for the annual Hunger Games. The tributes must fight to the death in an arena; the sole...</td>\n",
       "      <td>The Hunger Games</td>\n",
       "      <td>['Action/Adventure', 'Science Fiction', 'Action', 'Drama']</td>\n",
       "    </tr>\n",
       "    <tr>\n",
       "      <th>2</th>\n",
       "      <td>Poovalli Induchoodan  is sentenced for six years prison life for murdering his classmate. Induchoodan, the only son of Justice Maranchery Karunakara Menon  was framed in the case by Manapally Madhavan Nambiar  and his crony DYSP Sankaranarayanan  to take revenge on idealist judge Menon who had e...</td>\n",
       "      <td>Narasimham</td>\n",
       "      <td>['Musical', 'Action', 'Drama', 'Bollywood']</td>\n",
       "    </tr>\n",
       "    <tr>\n",
       "      <th>3</th>\n",
       "      <td>The Lemon Drop Kid , a New York City swindler, is illegally touting horses at a Florida racetrack. After several successful hustles, the Kid comes across a beautiful, but gullible, woman intending to bet a lot of money. The Kid convinces her to switch her bet, employing a prefabricated con. Unfo...</td>\n",
       "      <td>The Lemon Drop Kid</td>\n",
       "      <td>['Screwball comedy', 'Comedy']</td>\n",
       "    </tr>\n",
       "    <tr>\n",
       "      <th>4</th>\n",
       "      <td>Seventh-day Adventist Church pastor Michael Chamberlain, his wife Lindy, their two sons, and their nine-week-old daughter Azaria are on a camping holiday in the Outback. With the baby sleeping in their tent, the family is enjoying a barbecue with their fellow campers when a cry is heard. Lindy r...</td>\n",
       "      <td>A Cry in the Dark</td>\n",
       "      <td>['Crime Fiction', 'Drama', 'Docudrama', 'World cinema', 'Courtroom Drama']</td>\n",
       "    </tr>\n",
       "  </tbody>\n",
       "</table>\n",
       "</div>"
      ],
      "text/plain": [
       "                                                                                                                                                                                                                                                                                                          plot  \\\n",
       "0                                                                                                                           Shlykov, a hard-working taxi driver and Lyosha, a saxophonist, develop a bizarre love-hate relationship, and despite their prejudices, realize they aren't so different after all.   \n",
       "1  The nation of Panem consists of a wealthy Capitol and twelve poorer districts. As punishment for a past rebellion, each district must provide a boy and girl  between the ages of 12 and 18 selected by lottery  for the annual Hunger Games. The tributes must fight to the death in an arena; the sole...   \n",
       "2  Poovalli Induchoodan  is sentenced for six years prison life for murdering his classmate. Induchoodan, the only son of Justice Maranchery Karunakara Menon  was framed in the case by Manapally Madhavan Nambiar  and his crony DYSP Sankaranarayanan  to take revenge on idealist judge Menon who had e...   \n",
       "3  The Lemon Drop Kid , a New York City swindler, is illegally touting horses at a Florida racetrack. After several successful hustles, the Kid comes across a beautiful, but gullible, woman intending to bet a lot of money. The Kid convinces her to switch her bet, employing a prefabricated con. Unfo...   \n",
       "4  Seventh-day Adventist Church pastor Michael Chamberlain, his wife Lindy, their two sons, and their nine-week-old daughter Azaria are on a camping holiday in the Outback. With the baby sleeping in their tent, the family is enjoying a barbecue with their fellow campers when a cry is heard. Lindy r...   \n",
       "\n",
       "           movie_name  \\\n",
       "0          Taxi Blues   \n",
       "1    The Hunger Games   \n",
       "2          Narasimham   \n",
       "3  The Lemon Drop Kid   \n",
       "4   A Cry in the Dark   \n",
       "\n",
       "                                                                        genre  \n",
       "0                                                   ['Drama', 'World cinema']  \n",
       "1                  ['Action/Adventure', 'Science Fiction', 'Action', 'Drama']  \n",
       "2                                 ['Musical', 'Action', 'Drama', 'Bollywood']  \n",
       "3                                              ['Screwball comedy', 'Comedy']  \n",
       "4  ['Crime Fiction', 'Drama', 'Docudrama', 'World cinema', 'Courtroom Drama']  "
      ]
     },
     "execution_count": 5,
     "metadata": {},
     "output_type": "execute_result"
    }
   ],
   "source": [
    "df.head(5)"
   ]
  },
  {
   "cell_type": "code",
   "execution_count": 6,
   "id": "4e5487cd",
   "metadata": {},
   "outputs": [
    {
     "data": {
      "text/plain": [
       "(42204, 3)"
      ]
     },
     "execution_count": 6,
     "metadata": {},
     "output_type": "execute_result"
    }
   ],
   "source": [
    "# check dimensionality of the DataFrame (rows and columns)\n",
    "\n",
    "df.shape"
   ]
  },
  {
   "cell_type": "code",
   "execution_count": 7,
   "id": "b1319279",
   "metadata": {
    "scrolled": true
   },
   "outputs": [
    {
     "data": {
      "text/plain": [
       "plot          0\n",
       "movie_name    0\n",
       "genre         0\n",
       "dtype: int64"
      ]
     },
     "execution_count": 7,
     "metadata": {},
     "output_type": "execute_result"
    }
   ],
   "source": [
    "# check and detect missing values in the dataset\n",
    "\n",
    "df.isnull().sum()\n",
    "\n",
    "# df.isna().any()"
   ]
  },
  {
   "cell_type": "code",
   "execution_count": 8,
   "id": "d563432d",
   "metadata": {},
   "outputs": [
    {
     "name": "stdout",
     "output_type": "stream",
     "text": [
      "<class 'pandas.core.frame.DataFrame'>\n",
      "RangeIndex: 42204 entries, 0 to 42203\n",
      "Data columns (total 3 columns):\n",
      " #   Column      Non-Null Count  Dtype \n",
      "---  ------      --------------  ----- \n",
      " 0   plot        42204 non-null  object\n",
      " 1   movie_name  42204 non-null  object\n",
      " 2   genre       42204 non-null  object\n",
      "dtypes: object(3)\n",
      "memory usage: 989.3+ KB\n"
     ]
    }
   ],
   "source": [
    "# prints information about the DataFrame.\n",
    "\n",
    "df.info()"
   ]
  },
  {
   "cell_type": "code",
   "execution_count": 9,
   "id": "d144dc30",
   "metadata": {},
   "outputs": [
    {
     "data": {
      "text/plain": [
       "2"
      ]
     },
     "execution_count": 9,
     "metadata": {},
     "output_type": "execute_result"
    }
   ],
   "source": [
    "# detect duplicate rows\n",
    "\n",
    "df.duplicated().sum()"
   ]
  },
  {
   "cell_type": "code",
   "execution_count": 10,
   "id": "fc3b4016",
   "metadata": {},
   "outputs": [],
   "source": [
    "# drop duplicate rows\n",
    "\n",
    "df.drop_duplicates(inplace=True)"
   ]
  },
  {
   "cell_type": "code",
   "execution_count": 11,
   "id": "29ff64ef",
   "metadata": {},
   "outputs": [
    {
     "data": {
      "text/plain": [
       "plot          0\n",
       "movie_name    0\n",
       "genre         0\n",
       "dtype: int64"
      ]
     },
     "execution_count": 11,
     "metadata": {},
     "output_type": "execute_result"
    }
   ],
   "source": [
    "# dropna() is used to remove a row or a column from a dataframe that has a NaN or missing values in it.\n",
    "\n",
    "df.dropna(inplace=True)\n",
    "df.isnull().sum()"
   ]
  },
  {
   "cell_type": "code",
   "execution_count": 12,
   "id": "89bec865",
   "metadata": {},
   "outputs": [
    {
     "data": {
      "text/plain": [
       "(42202, 3)"
      ]
     },
     "execution_count": 12,
     "metadata": {},
     "output_type": "execute_result"
    }
   ],
   "source": [
    "df.shape"
   ]
  },
  {
   "cell_type": "code",
   "execution_count": null,
   "id": "493870f1",
   "metadata": {},
   "outputs": [],
   "source": []
  },
  {
   "cell_type": "markdown",
   "id": "fa4fbe8c",
   "metadata": {},
   "source": [
    "### Here genre column (type) values in string form so we need to convert into list object"
   ]
  },
  {
   "cell_type": "code",
   "execution_count": 13,
   "id": "1a0cc286",
   "metadata": {},
   "outputs": [
    {
     "data": {
      "text/plain": [
       "str"
      ]
     },
     "execution_count": 13,
     "metadata": {},
     "output_type": "execute_result"
    }
   ],
   "source": [
    "type(df.iloc[0]['genre'])"
   ]
  },
  {
   "cell_type": "code",
   "execution_count": 14,
   "id": "986de55c",
   "metadata": {},
   "outputs": [
    {
     "data": {
      "text/plain": [
       "\"['Drama', 'World cinema']\""
      ]
     },
     "execution_count": 14,
     "metadata": {},
     "output_type": "execute_result"
    }
   ],
   "source": [
    "df.iloc[0]['genre']"
   ]
  },
  {
   "cell_type": "code",
   "execution_count": null,
   "id": "33ff8985",
   "metadata": {},
   "outputs": [],
   "source": []
  },
  {
   "cell_type": "code",
   "execution_count": 15,
   "id": "f9c5da62",
   "metadata": {},
   "outputs": [
    {
     "data": {
      "text/plain": [
       "'Drama'"
      ]
     },
     "execution_count": 15,
     "metadata": {},
     "output_type": "execute_result"
    }
   ],
   "source": [
    "ast.literal_eval(df.iloc[0]['genre'])[0]"
   ]
  },
  {
   "cell_type": "code",
   "execution_count": 16,
   "id": "a31935c6",
   "metadata": {},
   "outputs": [],
   "source": [
    "# We will use ast.literal_eval() method in order to get actual object from string representation \n",
    "# evaluates the string, and gets the python list object.\n",
    "\n",
    "df['genre'] = df['genre'].apply(lambda x: ast.literal_eval(x))"
   ]
  },
  {
   "cell_type": "code",
   "execution_count": 17,
   "id": "ee8e47fd",
   "metadata": {},
   "outputs": [
    {
     "data": {
      "text/html": [
       "<div>\n",
       "<style scoped>\n",
       "    .dataframe tbody tr th:only-of-type {\n",
       "        vertical-align: middle;\n",
       "    }\n",
       "\n",
       "    .dataframe tbody tr th {\n",
       "        vertical-align: top;\n",
       "    }\n",
       "\n",
       "    .dataframe thead th {\n",
       "        text-align: right;\n",
       "    }\n",
       "</style>\n",
       "<table border=\"1\" class=\"dataframe\">\n",
       "  <thead>\n",
       "    <tr style=\"text-align: right;\">\n",
       "      <th></th>\n",
       "      <th>plot</th>\n",
       "      <th>movie_name</th>\n",
       "      <th>genre</th>\n",
       "    </tr>\n",
       "  </thead>\n",
       "  <tbody>\n",
       "    <tr>\n",
       "      <th>0</th>\n",
       "      <td>Shlykov, a hard-working taxi driver and Lyosha, a saxophonist, develop a bizarre love-hate relationship, and despite their prejudices, realize they aren't so different after all.</td>\n",
       "      <td>Taxi Blues</td>\n",
       "      <td>[Drama, World cinema]</td>\n",
       "    </tr>\n",
       "    <tr>\n",
       "      <th>1</th>\n",
       "      <td>The nation of Panem consists of a wealthy Capitol and twelve poorer districts. As punishment for a past rebellion, each district must provide a boy and girl  between the ages of 12 and 18 selected by lottery  for the annual Hunger Games. The tributes must fight to the death in an arena; the sole...</td>\n",
       "      <td>The Hunger Games</td>\n",
       "      <td>[Action/Adventure, Science Fiction, Action, Drama]</td>\n",
       "    </tr>\n",
       "  </tbody>\n",
       "</table>\n",
       "</div>"
      ],
      "text/plain": [
       "                                                                                                                                                                                                                                                                                                          plot  \\\n",
       "0                                                                                                                           Shlykov, a hard-working taxi driver and Lyosha, a saxophonist, develop a bizarre love-hate relationship, and despite their prejudices, realize they aren't so different after all.   \n",
       "1  The nation of Panem consists of a wealthy Capitol and twelve poorer districts. As punishment for a past rebellion, each district must provide a boy and girl  between the ages of 12 and 18 selected by lottery  for the annual Hunger Games. The tributes must fight to the death in an arena; the sole...   \n",
       "\n",
       "         movie_name                                               genre  \n",
       "0        Taxi Blues                               [Drama, World cinema]  \n",
       "1  The Hunger Games  [Action/Adventure, Science Fiction, Action, Drama]  "
      ]
     },
     "execution_count": 17,
     "metadata": {},
     "output_type": "execute_result"
    }
   ],
   "source": [
    "df.head(2)"
   ]
  },
  {
   "cell_type": "code",
   "execution_count": 18,
   "id": "bb30d76b",
   "metadata": {},
   "outputs": [
    {
     "data": {
      "text/plain": [
       "['Drama', 'World cinema']"
      ]
     },
     "execution_count": 18,
     "metadata": {},
     "output_type": "execute_result"
    }
   ],
   "source": [
    "df.iloc[0]['genre']"
   ]
  },
  {
   "cell_type": "code",
   "execution_count": null,
   "id": "5048e574",
   "metadata": {},
   "outputs": [],
   "source": []
  },
  {
   "cell_type": "code",
   "execution_count": 19,
   "id": "9b008b31",
   "metadata": {},
   "outputs": [
    {
     "data": {
      "text/plain": [
       "(42202, 3)"
      ]
     },
     "execution_count": 19,
     "metadata": {},
     "output_type": "execute_result"
    }
   ],
   "source": [
    "df.shape"
   ]
  },
  {
   "cell_type": "markdown",
   "id": "fd5231bc",
   "metadata": {},
   "source": [
    "### Remove samples with 0 genre tags"
   ]
  },
  {
   "cell_type": "code",
   "execution_count": 20,
   "id": "b67bd214",
   "metadata": {},
   "outputs": [],
   "source": [
    "df = df[~(df['genre'].str.len() == 0)]"
   ]
  },
  {
   "cell_type": "code",
   "execution_count": 21,
   "id": "566634f0",
   "metadata": {},
   "outputs": [
    {
     "data": {
      "text/plain": [
       "(41791, 3)"
      ]
     },
     "execution_count": 21,
     "metadata": {},
     "output_type": "execute_result"
    }
   ],
   "source": [
    "df.shape"
   ]
  },
  {
   "cell_type": "markdown",
   "id": "f6500947",
   "metadata": {},
   "source": [
    "### Get all unique genre tags in a list"
   ]
  },
  {
   "cell_type": "code",
   "execution_count": 22,
   "id": "c51eb75a",
   "metadata": {},
   "outputs": [],
   "source": [
    "all_genres = [] \n",
    "\n",
    "# extract genres\n",
    "for ge in df['genre']: \n",
    "    for g in ge:\n",
    "        all_genres.append(g)"
   ]
  },
  {
   "cell_type": "code",
   "execution_count": 23,
   "id": "b7169258",
   "metadata": {},
   "outputs": [
    {
     "data": {
      "text/plain": [
       "363"
      ]
     },
     "execution_count": 23,
     "metadata": {},
     "output_type": "execute_result"
    }
   ],
   "source": [
    "len(set(all_genres))"
   ]
  },
  {
   "cell_type": "code",
   "execution_count": null,
   "id": "a590a586",
   "metadata": {},
   "outputs": [],
   "source": []
  },
  {
   "cell_type": "markdown",
   "id": "6c780212",
   "metadata": {},
   "source": [
    "### Most Frequent Genre"
   ]
  },
  {
   "cell_type": "code",
   "execution_count": 24,
   "id": "d29259fa",
   "metadata": {},
   "outputs": [],
   "source": [
    "all_genres = nltk.FreqDist(all_genres) \n",
    "\n",
    "# create dataframe\n",
    "all_genres_df = pd.DataFrame({'Genre': list(all_genres.keys()), \n",
    "                              'Count': list(all_genres.values())})"
   ]
  },
  {
   "cell_type": "code",
   "execution_count": 25,
   "id": "6c4fb2af",
   "metadata": {},
   "outputs": [
    {
     "data": {
      "image/png": "[encoded data removed]",
      "text/plain": [
       "<Figure size 864x1080 with 1 Axes>"
      ]
     },
     "metadata": {
      "needs_background": "light"
     },
     "output_type": "display_data"
    }
   ],
   "source": [
    "g = all_genres_df.nlargest(columns=\"Count\", n = 50) \n",
    "plt.figure(figsize=(12,15)) \n",
    "ax = sns.barplot(data=g, x= \"Count\", y = \"Genre\", orient=\"h\") \n",
    "ax.set(ylabel = 'Count') \n",
    "plt.show()"
   ]
  },
  {
   "cell_type": "code",
   "execution_count": null,
   "id": "4c07dddd",
   "metadata": {},
   "outputs": [],
   "source": []
  },
  {
   "cell_type": "code",
   "execution_count": null,
   "id": "415f76ce",
   "metadata": {},
   "outputs": [],
   "source": []
  },
  {
   "cell_type": "markdown",
   "id": "d80ea5a7",
   "metadata": {},
   "source": [
    "# Text Preprocessing "
   ]
  },
  {
   "cell_type": "markdown",
   "id": "316410be",
   "metadata": {},
   "source": [
    "## Create a function to clean the text\n",
    "\n",
    "    Normalize Text\n",
    "    Remove Unicode Characters\n",
    "    Remove Stopwords\n",
    "    Perform Stemming and Lemmatization"
   ]
  },
  {
   "cell_type": "code",
   "execution_count": 26,
   "id": "273dcfdb",
   "metadata": {},
   "outputs": [],
   "source": [
    "porter = PorterStemmer()\n",
    "stop_words = set(stopwords.words('english'))\n",
    "\n",
    "# function for text cleaning \n",
    "def clean_text(text):\n",
    "    \n",
    "    # remove backslash-apostrophe \n",
    "    text = re.sub(\"\\'\", \"\", text) \n",
    "    \n",
    "    # remove everything except alphabets \n",
    "    text = re.sub(\"[^a-zA-Z]\",\" \",text) \n",
    "    \n",
    "    # remove whitespaces \n",
    "    text = ' '.join(text.split()) \n",
    "    \n",
    "    # convert text to lowercase \n",
    "    text = text.lower() \n",
    "    \n",
    "    # remove stop words\n",
    "    no_stopword_text = [w for w in text.split() if not w in stop_words]\n",
    "    text = ' '.join(no_stopword_text)\n",
    "    \n",
    "    stemmed_plot = [porter.stem(word) for word in text.split()]\n",
    "    text = ' '.join(stemmed_plot)\n",
    "    \n",
    "    return text"
   ]
  },
  {
   "cell_type": "markdown",
   "id": "d529437d",
   "metadata": {},
   "source": [
    "# Clean up plot column"
   ]
  },
  {
   "cell_type": "code",
   "execution_count": 27,
   "id": "916e148b",
   "metadata": {},
   "outputs": [],
   "source": [
    "%timeit\n",
    "\n",
    "df['clean_plot'] = df['plot'].apply(lambda x: clean_text(x))"
   ]
  },
  {
   "cell_type": "code",
   "execution_count": 28,
   "id": "56ad3fec",
   "metadata": {},
   "outputs": [
    {
     "data": {
      "text/plain": [
       "'shlykov hard work taxi driver lyosha saxophonist develop bizarr love hate relationship despit prejudic realiz arent differ'"
      ]
     },
     "execution_count": 28,
     "metadata": {},
     "output_type": "execute_result"
    }
   ],
   "source": [
    "df['clean_plot'][0]"
   ]
  },
  {
   "cell_type": "code",
   "execution_count": null,
   "id": "cdff2472",
   "metadata": {},
   "outputs": [],
   "source": []
  },
  {
   "cell_type": "markdown",
   "id": "dac14b39",
   "metadata": {},
   "source": [
    "### Visualize the Most Frequent Words in the Movie Plots Column"
   ]
  },
  {
   "cell_type": "code",
   "execution_count": 29,
   "id": "d64553ed",
   "metadata": {},
   "outputs": [],
   "source": [
    "def freq_words(x, terms=30): \n",
    "    all_words = ' '.join([text for text in x]) \n",
    "    all_words = all_words.split() \n",
    "    fdist = nltk.FreqDist(all_words) \n",
    "    words_df = pd.DataFrame({'word':list(fdist.keys()), 'count':list(fdist.values())}) \n",
    "\n",
    "    # selecting top 20 most frequent words \n",
    "    d = words_df.nlargest(columns=\"count\", n = terms) \n",
    "\n",
    "    # visualize words and frequencies\n",
    "    plt.figure(figsize=(12,15)) \n",
    "    ax = sns.barplot(data=d, x= \"count\", y = \"word\") \n",
    "    ax.set(ylabel = 'Word') \n",
    "    plt.show()"
   ]
  },
  {
   "cell_type": "code",
   "execution_count": 30,
   "id": "f14ed0e5",
   "metadata": {},
   "outputs": [
    {
     "data": {
      "image/png": "[encoded data removed]",
      "text/plain": [
       "<Figure size 864x1080 with 1 Axes>"
      ]
     },
     "metadata": {
      "needs_background": "light"
     },
     "output_type": "display_data"
    }
   ],
   "source": [
    "# print 100 most frequent words\n",
    "    \n",
    "freq_words(df['clean_plot'], 100)"
   ]
  },
  {
   "cell_type": "code",
   "execution_count": null,
   "id": "64541e0d",
   "metadata": {},
   "outputs": [],
   "source": []
  },
  {
   "cell_type": "code",
   "execution_count": 31,
   "id": "ef19bfe4",
   "metadata": {},
   "outputs": [
    {
     "data": {
      "text/html": [
       "<div>\n",
       "<style scoped>\n",
       "    .dataframe tbody tr th:only-of-type {\n",
       "        vertical-align: middle;\n",
       "    }\n",
       "\n",
       "    .dataframe tbody tr th {\n",
       "        vertical-align: top;\n",
       "    }\n",
       "\n",
       "    .dataframe thead th {\n",
       "        text-align: right;\n",
       "    }\n",
       "</style>\n",
       "<table border=\"1\" class=\"dataframe\">\n",
       "  <thead>\n",
       "    <tr style=\"text-align: right;\">\n",
       "      <th></th>\n",
       "      <th>plot</th>\n",
       "      <th>movie_name</th>\n",
       "      <th>genre</th>\n",
       "      <th>clean_plot</th>\n",
       "    </tr>\n",
       "  </thead>\n",
       "  <tbody>\n",
       "    <tr>\n",
       "      <th>0</th>\n",
       "      <td>Shlykov, a hard-working taxi driver and Lyosha, a saxophonist, develop a bizarre love-hate relationship, and despite their prejudices, realize they aren't so different after all.</td>\n",
       "      <td>Taxi Blues</td>\n",
       "      <td>[Drama, World cinema]</td>\n",
       "      <td>shlykov hard work taxi driver lyosha saxophonist develop bizarr love hate relationship despit prejudic realiz arent differ</td>\n",
       "    </tr>\n",
       "    <tr>\n",
       "      <th>1</th>\n",
       "      <td>The nation of Panem consists of a wealthy Capitol and twelve poorer districts. As punishment for a past rebellion, each district must provide a boy and girl  between the ages of 12 and 18 selected by lottery  for the annual Hunger Games. The tributes must fight to the death in an arena; the sole...</td>\n",
       "      <td>The Hunger Games</td>\n",
       "      <td>[Action/Adventure, Science Fiction, Action, Drama]</td>\n",
       "      <td>nation panem consist wealthi capitol twelv poorer district punish past rebellion district must provid boy girl age select lotteri annual hunger game tribut must fight death arena sole survivor reward fame wealth first reap year old primros everdeen chosen district older sister katniss volunt tak...</td>\n",
       "    </tr>\n",
       "    <tr>\n",
       "      <th>2</th>\n",
       "      <td>Poovalli Induchoodan  is sentenced for six years prison life for murdering his classmate. Induchoodan, the only son of Justice Maranchery Karunakara Menon  was framed in the case by Manapally Madhavan Nambiar  and his crony DYSP Sankaranarayanan  to take revenge on idealist judge Menon who had e...</td>\n",
       "      <td>Narasimham</td>\n",
       "      <td>[Musical, Action, Drama, Bollywood]</td>\n",
       "      <td>pooval induchoodan sentenc six year prison life murder classmat induchoodan son justic marancheri karunakara menon frame case manap madhavan nambiar croni dysp sankaranarayanan take reveng idealist judg menon earlier given jail sentenc manap corrupt case induchoodan achiev top rank indian civil ...</td>\n",
       "    </tr>\n",
       "    <tr>\n",
       "      <th>3</th>\n",
       "      <td>The Lemon Drop Kid , a New York City swindler, is illegally touting horses at a Florida racetrack. After several successful hustles, the Kid comes across a beautiful, but gullible, woman intending to bet a lot of money. The Kid convinces her to switch her bet, employing a prefabricated con. Unfo...</td>\n",
       "      <td>The Lemon Drop Kid</td>\n",
       "      <td>[Screwball comedy, Comedy]</td>\n",
       "      <td>lemon drop kid new york citi swindler illeg tout hors florida racetrack sever success hustl kid come across beauti gullibl woman intend bet lot money kid convinc switch bet employ prefabr con unfortun kid woman belong notori gangster moos moran money kid choic finish dead last furiou moran deman...</td>\n",
       "    </tr>\n",
       "    <tr>\n",
       "      <th>4</th>\n",
       "      <td>Seventh-day Adventist Church pastor Michael Chamberlain, his wife Lindy, their two sons, and their nine-week-old daughter Azaria are on a camping holiday in the Outback. With the baby sleeping in their tent, the family is enjoying a barbecue with their fellow campers when a cry is heard. Lindy r...</td>\n",
       "      <td>A Cry in the Dark</td>\n",
       "      <td>[Crime Fiction, Drama, Docudrama, World cinema, Courtroom Drama]</td>\n",
       "      <td>seventh day adventist church pastor michael chamberlain wife lindi two son nine week old daughter azaria camp holiday outback babi sleep tent famili enjoy barbecu fellow camper cri heard lindi return tent check azaria certain see dingo someth mouth run approach discov infant miss everyon join fo...</td>\n",
       "    </tr>\n",
       "  </tbody>\n",
       "</table>\n",
       "</div>"
      ],
      "text/plain": [
       "                                                                                                                                                                                                                                                                                                          plot  \\\n",
       "0                                                                                                                           Shlykov, a hard-working taxi driver and Lyosha, a saxophonist, develop a bizarre love-hate relationship, and despite their prejudices, realize they aren't so different after all.   \n",
       "1  The nation of Panem consists of a wealthy Capitol and twelve poorer districts. As punishment for a past rebellion, each district must provide a boy and girl  between the ages of 12 and 18 selected by lottery  for the annual Hunger Games. The tributes must fight to the death in an arena; the sole...   \n",
       "2  Poovalli Induchoodan  is sentenced for six years prison life for murdering his classmate. Induchoodan, the only son of Justice Maranchery Karunakara Menon  was framed in the case by Manapally Madhavan Nambiar  and his crony DYSP Sankaranarayanan  to take revenge on idealist judge Menon who had e...   \n",
       "3  The Lemon Drop Kid , a New York City swindler, is illegally touting horses at a Florida racetrack. After several successful hustles, the Kid comes across a beautiful, but gullible, woman intending to bet a lot of money. The Kid convinces her to switch her bet, employing a prefabricated con. Unfo...   \n",
       "4  Seventh-day Adventist Church pastor Michael Chamberlain, his wife Lindy, their two sons, and their nine-week-old daughter Azaria are on a camping holiday in the Outback. With the baby sleeping in their tent, the family is enjoying a barbecue with their fellow campers when a cry is heard. Lindy r...   \n",
       "\n",
       "           movie_name  \\\n",
       "0          Taxi Blues   \n",
       "1    The Hunger Games   \n",
       "2          Narasimham   \n",
       "3  The Lemon Drop Kid   \n",
       "4   A Cry in the Dark   \n",
       "\n",
       "                                                              genre  \\\n",
       "0                                             [Drama, World cinema]   \n",
       "1                [Action/Adventure, Science Fiction, Action, Drama]   \n",
       "2                               [Musical, Action, Drama, Bollywood]   \n",
       "3                                        [Screwball comedy, Comedy]   \n",
       "4  [Crime Fiction, Drama, Docudrama, World cinema, Courtroom Drama]   \n",
       "\n",
       "                                                                                                                                                                                                                                                                                                    clean_plot  \n",
       "0                                                                                                                                                                                   shlykov hard work taxi driver lyosha saxophonist develop bizarr love hate relationship despit prejudic realiz arent differ  \n",
       "1  nation panem consist wealthi capitol twelv poorer district punish past rebellion district must provid boy girl age select lotteri annual hunger game tribut must fight death arena sole survivor reward fame wealth first reap year old primros everdeen chosen district older sister katniss volunt tak...  \n",
       "2  pooval induchoodan sentenc six year prison life murder classmat induchoodan son justic marancheri karunakara menon frame case manap madhavan nambiar croni dysp sankaranarayanan take reveng idealist judg menon earlier given jail sentenc manap corrupt case induchoodan achiev top rank indian civil ...  \n",
       "3  lemon drop kid new york citi swindler illeg tout hors florida racetrack sever success hustl kid come across beauti gullibl woman intend bet lot money kid convinc switch bet employ prefabr con unfortun kid woman belong notori gangster moos moran money kid choic finish dead last furiou moran deman...  \n",
       "4  seventh day adventist church pastor michael chamberlain wife lindi two son nine week old daughter azaria camp holiday outback babi sleep tent famili enjoy barbecu fellow camper cri heard lindi return tent check azaria certain see dingo someth mouth run approach discov infant miss everyon join fo...  "
      ]
     },
     "execution_count": 31,
     "metadata": {},
     "output_type": "execute_result"
    }
   ],
   "source": [
    "df.head()"
   ]
  },
  {
   "cell_type": "code",
   "execution_count": null,
   "id": "c948bdd3",
   "metadata": {},
   "outputs": [],
   "source": []
  },
  {
   "cell_type": "markdown",
   "id": "30acbc22",
   "metadata": {},
   "source": [
    "## Converting String genre to Multi Lable output variables\n",
    "\n",
    "    This is Multi-Label Classification problem as a Binary Relevance problem. \n",
    "    Hence, we will now one hot encode the target variable, i.e., new_genre by using sklearn’s MultiLabelBinarizer(). \n",
    "    Since there are 363 unique genre tags, there are going to be 363 new target variables.\n",
    "    \n",
    "    When we train our model we'll provide the labels (in this case genres) associated with each movie. \n",
    "    We can't pass the genres in as strings directly, we'll transform them into multi-hot vectors. \n",
    "    Since we have 363 genres, we'll have a 363 element vector for each movie \n",
    "    with 0s and 1s indicating which genres are present in each description."
   ]
  },
  {
   "cell_type": "code",
   "execution_count": 32,
   "id": "c17ee5fe",
   "metadata": {},
   "outputs": [],
   "source": [
    "encoder = MultiLabelBinarizer()\n",
    "\n",
    "y = encoder.fit_transform(df['genre']) # multi onehot encoder"
   ]
  },
  {
   "cell_type": "code",
   "execution_count": 33,
   "id": "a1e16c6d",
   "metadata": {},
   "outputs": [
    {
     "data": {
      "text/plain": [
       "(41791, 363)"
      ]
     },
     "execution_count": 33,
     "metadata": {},
     "output_type": "execute_result"
    }
   ],
   "source": [
    "y.shape"
   ]
  },
  {
   "cell_type": "code",
   "execution_count": 34,
   "id": "f32bdac1",
   "metadata": {},
   "outputs": [],
   "source": [
    "classes = encoder.classes_"
   ]
  },
  {
   "cell_type": "code",
   "execution_count": 35,
   "id": "31f6275a",
   "metadata": {},
   "outputs": [
    {
     "data": {
      "text/plain": [
       "array(['Absurdism', 'Acid western', 'Action', 'Action Comedy',\n",
       "       'Action Thrillers', 'Action/Adventure', 'Addiction Drama', 'Adult',\n",
       "       'Adventure', 'Adventure Comedy', 'Airplanes and airports',\n",
       "       'Albino bias', 'Alien Film', 'Alien invasion', 'Americana',\n",
       "       'Animal Picture', 'Animals', 'Animated Musical',\n",
       "       'Animated cartoon', 'Animation', 'Anime', 'Anthology',\n",
       "       'Anthropology', 'Anti-war', 'Anti-war film',\n",
       "       'Apocalyptic and post-apocalyptic fiction', 'Archaeology',\n",
       "       'Archives and records', 'Art film', 'Auto racing', 'Avant-garde',\n",
       "       'B-Western', 'B-movie', 'Backstage Musical', 'Baseball',\n",
       "       'Beach Film', 'Beach Party film', 'Bengali Cinema', 'Biker Film',\n",
       "       'Biographical film', 'Biography', 'Biopic [feature]',\n",
       "       'Black comedy', 'Black-and-white', 'Blaxploitation',\n",
       "       'Bloopers & Candid Camera', 'Bollywood', 'Boxing', 'Breakdance',\n",
       "       'British Empire Film', 'British New Wave', 'Bruceploitation',\n",
       "       'Buddy Picture', 'Buddy cop', 'Buddy film', 'Business', 'C-Movie',\n",
       "       'Camp', 'Caper story', 'Cavalry Film', 'Chase Movie',\n",
       "       'Chick flick', 'Childhood Drama', \"Children's\",\n",
       "       \"Children's Entertainment\", \"Children's Fantasy\",\n",
       "       \"Children's Issues\", \"Children's/Family\", 'Chinese Movies',\n",
       "       'Christian film', 'Christmas movie', 'Clay animation', 'Cold War',\n",
       "       'Combat Films', 'Comdedy', 'Comedy', 'Comedy Thriller',\n",
       "       'Comedy Western', 'Comedy film', 'Comedy horror',\n",
       "       'Comedy of Errors', 'Comedy of manners', 'Comedy-drama',\n",
       "       'Coming of age', 'Coming-of-age film', 'Computer Animation',\n",
       "       'Computers', 'Concert film', 'Conspiracy fiction',\n",
       "       'Costume Adventure', 'Costume Horror', 'Costume drama',\n",
       "       'Courtroom Comedy', 'Courtroom Drama', 'Creature Film', 'Crime',\n",
       "       'Crime Comedy', 'Crime Drama', 'Crime Fiction', 'Crime Thriller',\n",
       "       'Cult', 'Culture & Society', 'Cyberpunk', 'Czechoslovak New Wave',\n",
       "       'Dance', 'Demonic child', 'Detective', 'Detective fiction',\n",
       "       'Disaster', 'Docudrama', 'Documentary', 'Dogme 95',\n",
       "       'Domestic Comedy', 'Doomsday film', 'Drama', 'Dystopia',\n",
       "       'Ealing Comedies', 'Early Black Cinema', 'Education',\n",
       "       'Educational', 'Ensemble Film', 'Environmental Science', 'Epic',\n",
       "       'Epic Western', 'Erotic Drama', 'Erotic thriller', 'Erotica',\n",
       "       'Escape Film', 'Essay Film', 'Existentialism', 'Experimental film',\n",
       "       'Exploitation', 'Expressionism', 'Extreme Sports', 'Fairy tale',\n",
       "       'Family & Personal Relationships', 'Family Drama', 'Family Film',\n",
       "       'Family-Oriented Adventure', 'Fan film', 'Fantasy',\n",
       "       'Fantasy Adventure', 'Fantasy Comedy', 'Fantasy Drama',\n",
       "       'Feature film', 'Female buddy film', 'Feminist Film',\n",
       "       'Fictional film', 'Filipino', 'Filipino Movies', 'Film',\n",
       "       'Film & Television History', 'Film adaptation', 'Film noir',\n",
       "       'Film à clef', 'Film-Opera', 'Filmed Play', 'Finance & Investing',\n",
       "       'Foreign legion', 'Future noir', 'Gangster Film', 'Gay',\n",
       "       'Gay Interest', 'Gay Themed', 'Gay pornography', 'Gender Issues',\n",
       "       'Giallo', 'Glamorized Spy Film', 'Goat gland', 'Gothic Film',\n",
       "       'Graphic & Applied Arts', 'Gross out', 'Gross-out film',\n",
       "       'Gulf War', 'Hagiography', 'Hardcore pornography',\n",
       "       'Haunted House Film', 'Health & Fitness',\n",
       "       'Heaven-Can-Wait Fantasies', 'Heavenly Comedy', 'Heist',\n",
       "       'Hip hop movies', 'Historical Documentaries', 'Historical Epic',\n",
       "       'Historical drama', 'Historical fiction', 'History',\n",
       "       'Holiday Film', 'Homoeroticism', 'Horror', 'Horror Comedy',\n",
       "       'Horse racing', 'Humour', 'Hybrid Western',\n",
       "       'Illnesses & Disabilities', 'Indian Western', 'Indie',\n",
       "       'Inspirational Drama', 'Instrumental Music',\n",
       "       'Interpersonal Relationships', 'Inventions & Innovations',\n",
       "       'Japanese Movies', 'Journalism', 'Jukebox musical', 'Jungle Film',\n",
       "       'Juvenile Delinquency Film', 'Kafkaesque', 'Kitchen sink realism',\n",
       "       'LGBT', 'Language & Literature', 'Latino', 'Law & Crime',\n",
       "       'Legal drama', 'Libraries and librarians', 'Linguistics',\n",
       "       'Live action', 'Malayalam Cinema', 'Marriage Drama',\n",
       "       'Martial Arts Film', 'Master Criminal Films', 'Media Satire',\n",
       "       'Media Studies', 'Medical fiction', 'Melodrama', 'Mockumentary',\n",
       "       'Mondo film', 'Monster', 'Monster movie', 'Movie serial',\n",
       "       'Movies About Gladiators', 'Mumblecore', 'Music', 'Musical',\n",
       "       'Musical Drama', 'Musical comedy', 'Mystery',\n",
       "       'Mythological Fantasy', 'Natural disaster', 'Natural horror films',\n",
       "       'Nature', 'Neo-noir', 'Neorealism', 'New Hollywood',\n",
       "       'New Queer Cinema', 'News', 'Ninja movie', 'Northern',\n",
       "       'Nuclear warfare', 'Operetta', 'Outlaw', 'Outlaw biker film',\n",
       "       'Parkour in popular culture', 'Parody', 'Patriotic film',\n",
       "       'Period Horror', 'Period piece', 'Pinku eiga', 'Plague',\n",
       "       'Point of view shot', 'Political Documetary', 'Political cinema',\n",
       "       'Political drama', 'Political satire', 'Political thriller',\n",
       "       'Pornographic movie', 'Pornography', 'Pre-Code', 'Prison',\n",
       "       'Prison escape', 'Prison film', 'Private military company',\n",
       "       'Propaganda film', 'Psycho-biddy', 'Psychological horror',\n",
       "       'Psychological thriller', 'Punk rock', 'Race movie', 'Reboot',\n",
       "       'Religious Film', 'Remake', 'Revenge', 'Revisionist Fairy Tale',\n",
       "       'Revisionist Western', 'Road movie', 'Road-Horror',\n",
       "       'Roadshow theatrical release', 'Roadshow/Carny', 'Rockumentary',\n",
       "       'Romance Film', 'Romantic comedy', 'Romantic drama',\n",
       "       'Romantic fantasy', 'Romantic thriller', 'Samurai cinema',\n",
       "       'Satire', 'School story', 'Sci Fi Pictures original films',\n",
       "       'Sci-Fi Adventure', 'Sci-Fi Horror', 'Sci-Fi Thriller',\n",
       "       'Science Fiction', 'Science fiction Western', 'Screwball comedy',\n",
       "       'Sex comedy', 'Sexploitation', 'Short Film', 'Silent film',\n",
       "       'Silhouette animation', 'Singing cowboy', 'Slapstick', 'Slasher',\n",
       "       'Slice of life story', 'Social issues', 'Social problem film',\n",
       "       'Softcore Porn', 'Space opera', 'Space western',\n",
       "       'Spaghetti Western', 'Splatter film', 'Sponsored film', 'Sports',\n",
       "       'Spy', 'Stand-up comedy', 'Star vehicle', 'Statutory rape',\n",
       "       'Steampunk', 'Stoner film', 'Stop motion', 'Superhero',\n",
       "       'Superhero movie', 'Supermarionation', 'Supernatural',\n",
       "       'Surrealism', 'Suspense', 'Swashbuckler films', 'Sword and Sandal',\n",
       "       'Sword and sorcery', 'Sword and sorcery films', 'Tamil cinema',\n",
       "       'Teen', 'Television movie', 'The Netherlands in World War II',\n",
       "       'Therimin music', 'Thriller', 'Time travel', 'Tokusatsu',\n",
       "       'Tollywood', 'Tragedy', 'Tragicomedy', 'Travel', 'Vampire movies',\n",
       "       'War effort', 'War film', 'Werewolf fiction', 'Western',\n",
       "       'Whodunit', 'Women in prison films', 'Workplace Comedy',\n",
       "       'World History', 'World cinema', 'Wuxia', 'Z movie', 'Zombie Film'],\n",
       "      dtype=object)"
      ]
     },
     "execution_count": 35,
     "metadata": {},
     "output_type": "execute_result"
    }
   ],
   "source": [
    "classes"
   ]
  },
  {
   "cell_type": "code",
   "execution_count": 36,
   "id": "f1e9d887",
   "metadata": {},
   "outputs": [
    {
     "data": {
      "text/plain": [
       "(363,)"
      ]
     },
     "execution_count": 36,
     "metadata": {},
     "output_type": "execute_result"
    }
   ],
   "source": [
    "# there are going to be 363 new target variables\n",
    "\n",
    "classes.shape"
   ]
  },
  {
   "cell_type": "code",
   "execution_count": null,
   "id": "4e5eb490",
   "metadata": {},
   "outputs": [],
   "source": []
  },
  {
   "cell_type": "markdown",
   "id": "952c6034",
   "metadata": {},
   "source": [
    "## Spliting the dataset\n",
    "\n",
    "    First, we need to divide our data into features (X) and labels (y). \n",
    "    The dataframe gets divided into X_train, X_test, y_train, and y_test. \n",
    "    X_train and y_train sets are used for training and fitting the model."
   ]
  },
  {
   "cell_type": "code",
   "execution_count": 37,
   "id": "aec79ad3",
   "metadata": {},
   "outputs": [],
   "source": [
    "X_train, X_test, y_train, y_test = train_test_split(df['clean_plot'], y, test_size=0.2, random_state=5, shuffle=True)"
   ]
  },
  {
   "cell_type": "code",
   "execution_count": 38,
   "id": "fa647b96",
   "metadata": {},
   "outputs": [
    {
     "data": {
      "text/plain": [
       "((33432,), (8359,))"
      ]
     },
     "execution_count": 38,
     "metadata": {},
     "output_type": "execute_result"
    }
   ],
   "source": [
    "X_train.shape, X_test.shape"
   ]
  },
  {
   "cell_type": "code",
   "execution_count": 39,
   "id": "b6abca80",
   "metadata": {},
   "outputs": [
    {
     "data": {
      "text/plain": [
       "((33432, 363), (8359, 363))"
      ]
     },
     "execution_count": 39,
     "metadata": {},
     "output_type": "execute_result"
    }
   ],
   "source": [
    "y_train.shape, y_test.shape"
   ]
  },
  {
   "cell_type": "code",
   "execution_count": null,
   "id": "244e4a99",
   "metadata": {},
   "outputs": [],
   "source": []
  },
  {
   "cell_type": "markdown",
   "id": "87008cad",
   "metadata": {},
   "source": [
    "## Featurizing plots with TfIdf vectorizer"
   ]
  },
  {
   "cell_type": "code",
   "execution_count": null,
   "id": "b273e059",
   "metadata": {},
   "outputs": [],
   "source": []
  },
  {
   "cell_type": "markdown",
   "id": "676fa623",
   "metadata": {},
   "source": [
    "#### To Extracting features from the cleaned version of the movie plots data.\n",
    "\n",
    "    I will be using TF-IDF features. \n",
    "    We can use other feature extraction methods such as :\n",
    "    \n",
    "        Bag-of-Words, \n",
    "        word2vec, \n",
    "        GloVe."
   ]
  },
  {
   "cell_type": "code",
   "execution_count": 40,
   "id": "a837fd61",
   "metadata": {},
   "outputs": [],
   "source": [
    "# Train Test and call evaluate method\n",
    "def train_test_evaluate_model(xtrain, ytrain, xtest, ytest, classifier):\n",
    "    \n",
    "    # Pipeline with TF-IDF for feature extraction and OvsR for classification with classifier\n",
    "    \n",
    "    # Scikit-learn provides a Pipeline utility to help automate machine learning workflows. \n",
    "    # Pipelines are very common in Machine Learning systems, \n",
    "    # Since there is a lot of data to manipulate and many data transformations to apply. \n",
    "    # So we will utilize pipeline to train every classifier.\n",
    "\n",
    "\n",
    "    pipeline = Pipeline([\n",
    "        ('tfidf', TfidfVectorizer(analyzer='word', max_features=10000, max_df=0.8, \n",
    "                                                    ngram_range=(1,3), stop_words='english')),\n",
    "        ('classifier', OneVsRestClassifier(classifier))\n",
    "    ])\n",
    "    \n",
    "    \n",
    "    # Here hyperparameter tweaking technique is used in grid search to find the optimal hyperparameters,so that we can obtain\n",
    "    # optimal set values for model parameter\n",
    "    # we are not using it beacuse its taking a long time to execute\n",
    "    \n",
    "    \"\"\"\n",
    "    parameters = {'tfidf__ngram_range': [(1, 1), (1, 2), (1,3), (1,4)],\n",
    "              'tfidf__use_idf': (True, False),\n",
    "              'tfidf__max_df': [0.25, 0.5, 0.75, 1.0],\n",
    "              'tfidf__max_features': [10, 50, 100, 250, 500, 1000, None],\n",
    "              'tfidf__stop_words': ('english', None),\n",
    "              'tfidf__smooth_idf': (True, False),\n",
    "              'tfidf__norm': ('l1', 'l2', None),\n",
    "              }\n",
    "\n",
    "    grid = GridSearchCV(estimator=pipeline, param_grid=parameters, cv=2, verbose=1, scoring='accuracy', n_jobs=-1)\n",
    "    \n",
    "    grid = grid.fit(xtrain, ytrain)\n",
    "    \n",
    "    \n",
    "    print(grid.best_score)\n",
    "    \n",
    "    print(grid.best_params_)\n",
    "    \n",
    "    clf = grid.best_estimator\n",
    "    \n",
    "    clf.fit(xtrain, ytrain)\n",
    "    \n",
    "    print('Test Accuracy : %.3f' % clf.score(xtest, ytest))\n",
    "    \n",
    "    \"\"\"\n",
    "    \n",
    "    # Fit the data\n",
    "    pipeline.fit(xtrain, ytrain)\n",
    "        \n",
    "    # Predict on test\n",
    "    y_pred = pipeline.predict(xtest)\n",
    "    \n",
    "    # Evaluate performance\n",
    "    evaluate_classifier(ytest, y_pred)\n",
    "    \n",
    "    return pipeline, y_pred"
   ]
  },
  {
   "cell_type": "code",
   "execution_count": null,
   "id": "0c0713c2",
   "metadata": {},
   "outputs": [],
   "source": []
  },
  {
   "cell_type": "markdown",
   "id": "b73a6d2f",
   "metadata": {},
   "source": [
    "## Create a function to evaluate classifier"
   ]
  },
  {
   "cell_type": "code",
   "execution_count": 41,
   "id": "778ac3f8",
   "metadata": {},
   "outputs": [],
   "source": [
    "def evaluate_classifier(ground_truth, pred):\n",
    "    \n",
    "    accuracy = accuracy_score(ground_truth, pred) * 100\n",
    "    recall = recall_score(ground_truth, pred, average='micro') * 100\n",
    "    precision = precision_score(ground_truth, pred, average='micro', zero_division=1) * 100\n",
    "    f1 = f1_score(ground_truth, pred, average='micro', zero_division=1) * 100\n",
    "    weighted_f1 = f1_score(ground_truth, pred, average='weighted', zero_division=1) * 100\n",
    "    \n",
    "    \n",
    "    print('Accuracy =     ', round(accuracy, 2), \"%\")\n",
    "    print('Recall =       ', round(recall, 2), '%')\n",
    "    print('Precision =    ', round(precision, 2), '%')\n",
    "    \n",
    "    print('F1 Score =     ', round(f1, 2), '%')\n",
    "    print('Weighted F1 Score =     ', round(f1, 2), '%')"
   ]
  },
  {
   "cell_type": "code",
   "execution_count": 42,
   "id": "020b3c1e",
   "metadata": {},
   "outputs": [],
   "source": [
    "# To evaluate our models, I'll use the jacard score since it's the best fitted for multi-label classification\n",
    "\n",
    "\n",
    "def avg_jacard(y_true,y_pred):\n",
    "    \n",
    "    jacard = np.minimum(y_true,y_pred).sum(axis=1) / np.maximum(y_true,y_pred).sum(axis=1)\n",
    "    \n",
    "    return jacard.mean()*100\n",
    "\n",
    "def print_score(y_pred, clf):\n",
    "    print(\"Clf: \", clf.__class__.__name__)\n",
    "    print(\"Jacard score: {}\".format(avg_jacard(y_test, y_pred)))\n",
    "    print(\"Hamming loss: {}\".format(hamming_loss(y_pred, y_test)*100))"
   ]
  },
  {
   "cell_type": "code",
   "execution_count": null,
   "id": "5210e449",
   "metadata": {},
   "outputs": [],
   "source": []
  },
  {
   "cell_type": "markdown",
   "id": "b530414e",
   "metadata": {},
   "source": [
    "## Create a function to predict genre of the movies plot"
   ]
  },
  {
   "cell_type": "code",
   "execution_count": 43,
   "id": "f2f6ab93",
   "metadata": {},
   "outputs": [],
   "source": [
    "def infer_genre(q, pipeline):\n",
    "    q_vec = pipeline.named_steps['tfidf'].transform([q])\n",
    "    q_pred = pipeline.named_steps['classifier'].predict(q_vec)\n",
    "    return encoder.inverse_transform(q_pred)"
   ]
  },
  {
   "cell_type": "code",
   "execution_count": null,
   "id": "6175745c",
   "metadata": {},
   "outputs": [],
   "source": []
  },
  {
   "cell_type": "markdown",
   "id": "2477176d",
   "metadata": {},
   "source": [
    "# Model Building"
   ]
  },
  {
   "cell_type": "code",
   "execution_count": null,
   "id": "b88db58a",
   "metadata": {},
   "outputs": [],
   "source": []
  },
  {
   "cell_type": "code",
   "execution_count": 44,
   "id": "b3cc7bfb",
   "metadata": {},
   "outputs": [],
   "source": [
    "# Classifiers\n",
    "\n",
    "support_vector_classifier = LinearSVC(C=1.5, penalty='l2', dual=False)\n",
    "\n",
    "lr_classifier = LogisticRegression(random_state=0, max_iter=10000)\n",
    "\n",
    "multinomial_bayes = MultinomialNB(fit_prior=True, class_prior=None)"
   ]
  },
  {
   "cell_type": "code",
   "execution_count": null,
   "id": "00793b13",
   "metadata": {},
   "outputs": [],
   "source": []
  },
  {
   "cell_type": "code",
   "execution_count": null,
   "id": "a7e18d01",
   "metadata": {},
   "outputs": [],
   "source": []
  },
  {
   "cell_type": "markdown",
   "id": "2465308d",
   "metadata": {},
   "source": [
    "## Linear Support Vector Classifier"
   ]
  },
  {
   "cell_type": "code",
   "execution_count": 45,
   "id": "0106fc85",
   "metadata": {
    "scrolled": true
   },
   "outputs": [
    {
     "name": "stdout",
     "output_type": "stream",
     "text": [
      "Accuracy =      5.93 %\n",
      "Recall =        30.95 %\n",
      "Precision =     56.01 %\n",
      "F1 Score =      39.87 %\n",
      "Weighted F1 Score =      39.87 %\n"
     ]
    }
   ],
   "source": [
    "# Train Test and Evaluate LinearSVC Model\n",
    "pipeline, predictions = train_test_evaluate_model(xtrain=X_train, ytrain=y_train, xtest=X_test, \n",
    "                          ytest=y_test, classifier=support_vector_classifier)"
   ]
  },
  {
   "cell_type": "code",
   "execution_count": 46,
   "id": "c9e17dd2",
   "metadata": {},
   "outputs": [
    {
     "name": "stdout",
     "output_type": "stream",
     "text": [
      "Clf:  tuple\n",
      "Jacard score: 28.058756784680938\n",
      "Hamming loss: 0.9263369647930654\n"
     ]
    }
   ],
   "source": [
    "print_score(predictions, pipeline.steps[1])"
   ]
  },
  {
   "cell_type": "markdown",
   "id": "145cda84",
   "metadata": {},
   "source": [
    "### Make prediction on Test data"
   ]
  },
  {
   "cell_type": "code",
   "execution_count": 47,
   "id": "1b8bc46c",
   "metadata": {},
   "outputs": [
    {
     "name": "stdout",
     "output_type": "stream",
     "text": [
      "Movie:  Suryavamsam \n",
      "Predicted genre:  [('Action', 'Drama')]\n",
      "Actual genre:  ['Drama'] \n",
      "\n",
      "Movie:  Anjali \n",
      "Predicted genre:  [('Drama',)]\n",
      "Actual genre:  ['Musical', 'Family Drama', 'Tamil cinema'] \n",
      "\n",
      "Movie:  Slaughterhouse Rock \n",
      "Predicted genre:  [('Horror',)]\n",
      "Actual genre:  ['Horror', 'Comedy', 'Horror Comedy'] \n",
      "\n",
      "Movie:  On the Town \n",
      "Predicted genre:  [('Black-and-white', 'Comedy', 'Drama', 'Indie', 'LGBT', 'Romance Film', 'Romantic comedy')]\n",
      "Actual genre:  ['Musical'] \n",
      "\n",
      "Movie:  The Amazing Spiderman \n",
      "Predicted genre:  [('Comedy', 'Superhero movie')]\n",
      "Actual genre:  ['Crime Fiction', 'Science Fiction', 'Superhero movie', 'Drama', 'Fantasy', 'Family Film', 'Action'] \n",
      "\n"
     ]
    }
   ],
   "source": [
    "for i in range(5): \n",
    "    k = X_test.sample(1).index[0] \n",
    "    print(\"Movie: \", df['movie_name'][k], \"\\nPredicted genre: \", infer_genre(X_test[k], pipeline))\n",
    "    print(\"Actual genre: \", df['genre'][k], \"\\n\")"
   ]
  },
  {
   "cell_type": "code",
   "execution_count": null,
   "id": "6e8ee84e",
   "metadata": {},
   "outputs": [],
   "source": []
  },
  {
   "cell_type": "code",
   "execution_count": null,
   "id": "ce8cc75f",
   "metadata": {},
   "outputs": [],
   "source": []
  },
  {
   "cell_type": "code",
   "execution_count": null,
   "id": "96995e82",
   "metadata": {},
   "outputs": [],
   "source": []
  },
  {
   "cell_type": "markdown",
   "id": "c7da8d45",
   "metadata": {},
   "source": [
    "## Linear Regression Classifier"
   ]
  },
  {
   "cell_type": "code",
   "execution_count": 48,
   "id": "4202e9df",
   "metadata": {},
   "outputs": [
    {
     "name": "stdout",
     "output_type": "stream",
     "text": [
      "Accuracy =      7.67 %\n",
      "Recall =        20.93 %\n",
      "Precision =     69.32 %\n",
      "F1 Score =      32.15 %\n",
      "Weighted F1 Score =      32.15 %\n"
     ]
    }
   ],
   "source": [
    "# Train Test and Evaluate LinearSVC Model\n",
    "pipeline, predictions = train_test_evaluate_model(xtrain=X_train, ytrain=y_train, \n",
    "                          xtest=X_test, ytest=y_test, classifier=lr_classifier)"
   ]
  },
  {
   "cell_type": "code",
   "execution_count": 49,
   "id": "8d0a8d35",
   "metadata": {},
   "outputs": [
    {
     "name": "stdout",
     "output_type": "stream",
     "text": [
      "Clf:  tuple\n",
      "Jacard score: 23.815149771603895\n",
      "Hamming loss: 0.8764740137566378\n"
     ]
    }
   ],
   "source": [
    "print_score(predictions, pipeline.steps[1])"
   ]
  },
  {
   "cell_type": "markdown",
   "id": "490e3e78",
   "metadata": {},
   "source": [
    "### Make prediction on Test data"
   ]
  },
  {
   "cell_type": "code",
   "execution_count": 50,
   "id": "9029ef03",
   "metadata": {},
   "outputs": [
    {
     "name": "stdout",
     "output_type": "stream",
     "text": [
      "Movie:  Le fantôme de la liberté \n",
      "Predicted genre:  [('Drama',)]\n",
      "Actual genre:  ['Surrealism', 'Drama', 'Comedy', 'World cinema', 'Art film'] \n",
      "\n",
      "Movie:  Dreamkiller \n",
      "Predicted genre:  [()]\n",
      "Actual genre:  ['Thriller', 'Mystery'] \n",
      "\n",
      "Movie:  Satyricon \n",
      "Predicted genre:  [('Drama', 'World cinema')]\n",
      "Actual genre:  ['LGBT', 'Romantic comedy', 'Drama', 'Art film', 'World cinema'] \n",
      "\n",
      "Movie:  Veerabhadra \n",
      "Predicted genre:  [()]\n",
      "Actual genre:  ['Action'] \n",
      "\n",
      "Movie:  Vishwanatha Nayakudu \n",
      "Predicted genre:  [('Drama',)]\n",
      "Actual genre:  ['Action', 'Drama', 'Historical drama'] \n",
      "\n"
     ]
    }
   ],
   "source": [
    "for i in range(5): \n",
    "    k = X_test.sample(1).index[0] \n",
    "    print(\"Movie: \", df['movie_name'][k], \"\\nPredicted genre: \", infer_genre(X_test[k], pipeline))\n",
    "    print(\"Actual genre: \", df['genre'][k], \"\\n\")"
   ]
  },
  {
   "cell_type": "code",
   "execution_count": null,
   "id": "b566ba04",
   "metadata": {},
   "outputs": [],
   "source": []
  },
  {
   "cell_type": "code",
   "execution_count": null,
   "id": "0944ead9",
   "metadata": {},
   "outputs": [],
   "source": []
  },
  {
   "cell_type": "code",
   "execution_count": null,
   "id": "d240e667",
   "metadata": {},
   "outputs": [],
   "source": []
  },
  {
   "cell_type": "markdown",
   "id": "696b7498",
   "metadata": {},
   "source": [
    "## Multinomial Bayes Classifier"
   ]
  },
  {
   "cell_type": "code",
   "execution_count": 51,
   "id": "5a734509",
   "metadata": {},
   "outputs": [
    {
     "name": "stdout",
     "output_type": "stream",
     "text": [
      "Accuracy =      6.89 %\n",
      "Recall =        15.23 %\n",
      "Precision =     68.53 %\n",
      "F1 Score =      24.92 %\n",
      "Weighted F1 Score =      24.92 %\n"
     ]
    }
   ],
   "source": [
    "# Train Test and Evaluate Multinomial Bayes Model\n",
    "pipeline, predictions = train_test_evaluate_model(xtrain=X_train, ytrain=y_train, \n",
    "                          xtest=X_test, ytest=y_test, classifier=multinomial_bayes)"
   ]
  },
  {
   "cell_type": "code",
   "execution_count": 52,
   "id": "4d4f92cf",
   "metadata": {},
   "outputs": [
    {
     "name": "stdout",
     "output_type": "stream",
     "text": [
      "Clf:  tuple\n",
      "Jacard score: 18.963755734900605\n",
      "Hamming loss: 0.9105179188594995\n"
     ]
    }
   ],
   "source": [
    "print_score(predictions, pipeline.steps[1])"
   ]
  },
  {
   "cell_type": "code",
   "execution_count": null,
   "id": "aa9aa14a",
   "metadata": {},
   "outputs": [],
   "source": []
  },
  {
   "cell_type": "markdown",
   "id": "e6595983",
   "metadata": {},
   "source": [
    "### Make prediction on Test data"
   ]
  },
  {
   "cell_type": "code",
   "execution_count": 53,
   "id": "6461a769",
   "metadata": {},
   "outputs": [
    {
     "name": "stdout",
     "output_type": "stream",
     "text": [
      "Movie:  Annibale \n",
      "Predicted genre:  [('Drama',)]\n",
      "Actual genre:  ['Action', 'Drama', 'Adventure'] \n",
      "\n",
      "Movie:  Voices Within: The Lives of Truddi Chase \n",
      "Predicted genre:  [('Drama',)]\n",
      "Actual genre:  ['Drama'] \n",
      "\n",
      "Movie:  Love Me Tonight \n",
      "Predicted genre:  [('Drama',)]\n",
      "Actual genre:  ['Romantic comedy', 'Operetta', 'Black-and-white', 'Musical', 'Pre-Code', 'Comedy', 'Romance Film'] \n",
      "\n",
      "Movie:  Rare Melodies \n",
      "Predicted genre:  [('Drama',)]\n",
      "Actual genre:  ['Drama', 'Tamil cinema'] \n",
      "\n",
      "Movie:  LollyPop \n",
      "Predicted genre:  [('Drama',)]\n",
      "Actual genre:  ['Drama'] \n",
      "\n"
     ]
    }
   ],
   "source": [
    "for i in range(5): \n",
    "    k = X_test.sample(1).index[0] \n",
    "    print(\"Movie: \", df['movie_name'][k], \"\\nPredicted genre: \", infer_genre(X_test[k], pipeline))\n",
    "    print(\"Actual genre: \", df['genre'][k], \"\\n\")"
   ]
  },
  {
   "cell_type": "code",
   "execution_count": null,
   "id": "f47df52b",
   "metadata": {},
   "outputs": [],
   "source": []
  },
  {
   "cell_type": "code",
   "execution_count": null,
   "id": "de7ae419",
   "metadata": {},
   "outputs": [],
   "source": []
  },
  {
   "cell_type": "code",
   "execution_count": null,
   "id": "15fcfae5",
   "metadata": {},
   "outputs": [],
   "source": []
  },
  {
   "cell_type": "markdown",
   "id": "ef8e2309",
   "metadata": {},
   "source": [
    "## Save Model"
   ]
  },
  {
   "cell_type": "code",
   "execution_count": 54,
   "id": "31043e8d",
   "metadata": {},
   "outputs": [],
   "source": [
    "import joblib"
   ]
  },
  {
   "cell_type": "code",
   "execution_count": 55,
   "id": "458b9a57",
   "metadata": {},
   "outputs": [
    {
     "data": {
      "text/plain": [
       "['classifiers.pkl']"
      ]
     },
     "execution_count": 55,
     "metadata": {},
     "output_type": "execute_result"
    }
   ],
   "source": [
    "joblib.dump(pipeline, 'classifiers.pkl', compress=1)"
   ]
  },
  {
   "cell_type": "code",
   "execution_count": null,
   "id": "dce13f51",
   "metadata": {},
   "outputs": [],
   "source": []
  },
  {
   "cell_type": "markdown",
   "id": "b58e06d9",
   "metadata": {},
   "source": [
    "## Load Model"
   ]
  },
  {
   "cell_type": "code",
   "execution_count": 56,
   "id": "bf96119f",
   "metadata": {},
   "outputs": [
    {
     "data": {
      "text/plain": [
       "Pipeline(steps=[('tfidf',\n",
       "                 TfidfVectorizer(max_df=0.8, max_features=10000,\n",
       "                                 ngram_range=(1, 3), stop_words='english')),\n",
       "                ('classifier', OneVsRestClassifier(estimator=MultinomialNB()))])"
      ]
     },
     "execution_count": 56,
     "metadata": {},
     "output_type": "execute_result"
    }
   ],
   "source": [
    "joblib.load('classifiers.pkl')"
   ]
  },
  {
   "cell_type": "code",
   "execution_count": 57,
   "id": "9b9a1a50",
   "metadata": {},
   "outputs": [],
   "source": [
    "clf = joblib.load('classifiers.pkl')"
   ]
  },
  {
   "cell_type": "code",
   "execution_count": 58,
   "id": "b6ef6404",
   "metadata": {},
   "outputs": [
    {
     "name": "stdout",
     "output_type": "stream",
     "text": [
      "Movie:  Cargo \n",
      "Predicted genre:  [('Science Fiction',)]\n",
      "Actual genre:  ['Thriller', 'Mystery', 'Science Fiction'] \n",
      "\n",
      "Movie:  The Lucky Guy \n",
      "Predicted genre:  [()]\n",
      "Actual genre:  ['Romantic comedy', 'Drama', 'Comedy', 'Chinese Movies'] \n",
      "\n",
      "Movie:  Anyay Abichar \n",
      "Predicted genre:  [('Action', 'Drama')]\n",
      "Actual genre:  ['Action'] \n",
      "\n",
      "Movie:  Once Upon a Time \n",
      "Predicted genre:  [()]\n",
      "Actual genre:  ['Science Fiction', 'Japanese Movies', 'World cinema', 'Animation', 'Anime', 'Fantasy', 'Drama', 'Steampunk'] \n",
      "\n",
      "Movie:  Chased \n",
      "Predicted genre:  [()]\n",
      "Actual genre:  ['Short Film'] \n",
      "\n"
     ]
    }
   ],
   "source": [
    "for i in range(5): \n",
    "    k = X_test.sample(1).index[0] \n",
    "    print(\"Movie: \", df['movie_name'][k], \"\\nPredicted genre: \", infer_genre(X_test[k], clf))\n",
    "    print(\"Actual genre: \", df['genre'][k], \"\\n\")"
   ]
  },
  {
   "cell_type": "code",
   "execution_count": null,
   "id": "980fc333",
   "metadata": {},
   "outputs": [],
   "source": []
  }
 ],
 "metadata": {
  "kernelspec": {
   "display_name": "Python 3 (ipykernel)",
   "language": "python",
   "name": "python3"
  },
  "language_info": {
   "codemirror_mode": {
    "name": "ipython",
    "version": 3
   },
   "file_extension": ".py",
   "mimetype": "text/x-python",
   "name": "python",
   "nbconvert_exporter": "python",
   "pygments_lexer": "ipython3",
   "version": "3.9.12"
  }
 },
 "nbformat": 4,
 "nbformat_minor": 5
}
